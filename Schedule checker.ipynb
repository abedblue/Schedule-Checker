{
 "cells": [
  {
   "cell_type": "markdown",
   "metadata": {},
   "source": [
    "The block below checks for the number of off periods staff recieve, and if the number of off periods is not exactly 1, it will report that. It also initializes the data that is used throughout this document, so you MUST run this block before running any of the following blocks. \n",
    "\n",
    "In order to change the schedule spreadsheet that the program looks at, you must change the filepath, located on line 4 between the set of single quotes and highlighted in red. Replace all text between the single quotes with the file path to the desired document, which can be found by right clicking on the spreadsheet file in the file explorer and clicking on properties. Don't forget to include the file name as well as the \".xls\" suffix. The slashes in the filepath may be in the form of \"/\" or \"\\\\\", but not \"\\\", as this is the escape character and will result in the filepath being read incorrectly by the program.\n",
    "\n",
    "If you make a mistake and delete anything, ctrl+z is your friend.\n",
    "\n",
    "Run blocks by clicking on the area directly to their left to highlight them, and then clicking the \"Run\" button on the toolbar at the top of the screen.\n",
    "\n",
    "No actual changes to the excel document are made by this program. It just reads through it and spots abnormalities.\n",
    "\n",
    "Sometimes the program will spot things that are not actually problematic, but appear to be problematic based on the criteria that it has. This is where human discretion comes in. This points out potential problems, but ultimately it can't know exactly what must be changed, so continue to use your own judgement."
   ]
  },
  {
   "cell_type": "code",
   "execution_count": 1,
   "metadata": {
    "scrolled": false
   },
   "outputs": [
    {
     "name": "stdout",
     "output_type": "stream",
     "text": [
      "Error: number of off periods for staff member: Aidan Finigan is \n",
      "0\n",
      "Error: number of off periods for staff member: Sean Brower Daniel is \n",
      "0\n",
      "Error: number of off periods for staff member: Dom Van Camp is \n",
      "0\n",
      "Error: number of off periods for staff member: Raven Delph is \n",
      "0\n",
      "Error: number of off periods for staff member: Alix Negrin is \n",
      "0\n",
      "Error: number of off periods for staff member: Elizabeth Menkowitz is \n",
      "0\n",
      "Error: number of off periods for staff member: Ryan Luplow is \n",
      "2\n"
     ]
    }
   ],
   "source": [
    "import numpy\n",
    "import pandas\n",
    "\n",
    "df = pandas.read_excel(open('C:\\\\Users\\\\user\\\\Desktop\\\\Abe\\'s Pet Projects\\\\Staff Schedule Checking\\\\Example Sheets\\\\STAFF SCHEDULE DAY 5_JULY 17.xls','rb'), sheet_name='Sheet1')\n",
    "\n",
    "for index, row in df.iterrows():\n",
    "    if(type(row['Unnamed: 0'])== int and row['Unnamed: 0'] > 0 and row['Unnamed: 0'] < 27):\n",
    "        off_periods = 0\n",
    "        for val in row:\n",
    "            if(val == 'OFF'):\n",
    "                off_periods += 1\n",
    "        \n",
    "        if(off_periods != 1 and not (row['Unnamed: 2'] == row['Unnamed: 3'] and row['Unnamed: 2'] == row['Unnamed: 4'] and row['Unnamed: 2'] == row['Unnamed: 5'] and row['Unnamed: 2'] == row['Unnamed: 6'] and row['Unnamed: 2'] == row['Unnamed: 7'])):\n",
    "            print('Error: number of off periods for staff member: ' + row['Unnamed: 1'] + ' is ')\n",
    "            print(off_periods)\n"
   ]
  },
  {
   "cell_type": "markdown",
   "metadata": {},
   "source": [
    "The following block checks the document for instances where bunks are not covered adiquately based upon their division. This block was made using the assumption that bunks under 13 have one free period and all bunks 13 and over have two free periods. If these values are incorrect, they can be changed by substituting the 13's in the 6 consecutive if statements with print statements under them with the appropriate number. Functionality for differentiating between boy's and girl's bunks is not currently implimented, and will be in a future version.\n",
    "\n",
    "When a bunk is identified as having too many unscheduled periods, this block will give the bunk number as well as each period that they are not scheduled with a counselor from their bunk.\n",
    "\n",
    "There are many times when this situation occurs intentionally, and again this is where human judgement comes in. This program is simply for identifying potential problems, resolving them and deciding if they are relevant is at your discretion.\n",
    "\n",
    "At this time, the code does not check the highest numbered Girl's bunk. This will be fixed in future versions."
   ]
  },
  {
   "cell_type": "code",
   "execution_count": 2,
   "metadata": {
    "scrolled": true
   },
   "outputs": [
    {
     "name": "stdout",
     "output_type": "stream",
     "text": [
      "Error: no counselors assigned to bunk: \n",
      "16\n",
      "for period 2\n",
      " \n",
      "Error: no counselors assigned to bunk: \n",
      "16\n",
      "for period 4\n",
      " \n",
      "Error: no counselors assigned to bunk: \n",
      "16\n",
      "for period 6\n",
      " \n",
      "Error: no counselors assigned to bunk: \n",
      "17\n",
      "for period 1\n",
      " \n",
      "Error: no counselors assigned to bunk: \n",
      "17\n",
      "for period 2\n",
      " \n",
      "Error: no counselors assigned to bunk: \n",
      "17\n",
      "for period 5\n",
      " \n",
      "Error: no counselors assigned to bunk: \n",
      "23\n",
      "for period 1\n",
      " \n",
      "Error: no counselors assigned to bunk: \n",
      "23\n",
      "for period 2\n",
      " \n",
      "Error: no counselors assigned to bunk: \n",
      "23\n",
      "for period 3\n",
      " \n",
      "Error: no counselors assigned to bunk: \n",
      "23\n",
      "for period 4\n",
      " \n",
      "Error: no counselors assigned to bunk: \n",
      "23\n",
      "for period 5\n",
      " \n",
      "Error: no counselors assigned to bunk: \n",
      "23\n",
      "for period 6\n",
      " \n"
     ]
    }
   ],
   "source": [
    "currentBunk = -1\n",
    "numCounselors1 = 0\n",
    "numCounselors2 = 0\n",
    "numCounselors3 = 0\n",
    "numCounselors4 = 0\n",
    "numCounselors5 = 0\n",
    "numCounselors6 = 0\n",
    "\n",
    "for index, row in df.iterrows():\n",
    "    if(type(row['Unnamed: 0'])== int and row['Unnamed: 0'] > 0 and row['Unnamed: 0'] < 27):\n",
    "        if(row['Unnamed: 0'] != currentBunk): \n",
    "            numUnscheduledPeriods = 0\n",
    "            if(numCounselors1 == 0):\n",
    "                numUnscheduledPeriods += 1\n",
    "            if(numCounselors2 == 0):\n",
    "                numUnscheduledPeriods += 1\n",
    "            if(numCounselors3 == 0):\n",
    "                numUnscheduledPeriods += 1\n",
    "            if(numCounselors4 == 0):\n",
    "                numUnscheduledPeriods += 1\n",
    "            if(numCounselors5 == 0):\n",
    "                numUnscheduledPeriods += 1\n",
    "            if(numCounselors6 == 0):\n",
    "                numUnscheduledPeriods += 1\n",
    "            \n",
    "            \n",
    "            if(numCounselors1 == 0 and ((currentBunk < 13 and numUnscheduledPeriods > 1) or numUnscheduledPeriods > 2)):\n",
    "                print('Error: no counselors assigned to bunk: ')\n",
    "                print(currentBunk)\n",
    "                print('for period 1')\n",
    "                print(' ')\n",
    "            if(numCounselors2 == 0 and ((currentBunk < 13 and numUnscheduledPeriods > 1) or numUnscheduledPeriods > 2)):\n",
    "                print('Error: no counselors assigned to bunk: ')\n",
    "                print(currentBunk)\n",
    "                print('for period 2')\n",
    "                print(' ')\n",
    "            if(numCounselors3 == 0 and ((currentBunk < 13 and numUnscheduledPeriods > 1) or numUnscheduledPeriods > 2)):\n",
    "                print('Error: no counselors assigned to bunk: ')\n",
    "                print(currentBunk)\n",
    "                print('for period 3')\n",
    "                print(' ')\n",
    "            if(numCounselors4 == 0 and ((currentBunk < 13 and numUnscheduledPeriods > 1) or numUnscheduledPeriods > 2)):\n",
    "                print('Error: no counselors assigned to bunk: ')\n",
    "                print(currentBunk)\n",
    "                print('for period 4')\n",
    "                print(' ')\n",
    "            if(numCounselors5 == 0 and ((currentBunk < 13 and numUnscheduledPeriods > 1) or numUnscheduledPeriods > 2)):\n",
    "                print('Error: no counselors assigned to bunk: ')\n",
    "                print(currentBunk)\n",
    "                print('for period 5')\n",
    "                print(' ')\n",
    "            if(numCounselors6 == 0 and ((currentBunk < 13 and numUnscheduledPeriods > 1) or numUnscheduledPeriods > 2)):\n",
    "                print('Error: no counselors assigned to bunk: ')\n",
    "                print(currentBunk)\n",
    "                print('for period 6')\n",
    "                print(' ')\n",
    "            \n",
    "            currentBunk = row['Unnamed: 0']\n",
    "            numCounselors1 = 0\n",
    "            numCounselors2 = 0\n",
    "            numCounselors3 = 0\n",
    "            numCounselors4 = 0\n",
    "            numCounselors5 = 0\n",
    "            numCounselors6 = 0\n",
    "    \n",
    "    if(pandas.isna(row['Unnamed: 2'])):\n",
    "        numCounselors1 += 1\n",
    "    if(pandas.isna(row['Unnamed: 3'])):\n",
    "        numCounselors2 += 1\n",
    "    if(pandas.isna(row['Unnamed: 4'])):\n",
    "        numCounselors3 += 1\n",
    "    if(pandas.isna(row['Unnamed: 5'])):\n",
    "        numCounselors4 += 1\n",
    "    if(pandas.isna(row['Unnamed: 6'])):\n",
    "        numCounselors5 += 1\n",
    "    if(pandas.isna(row['Unnamed: 7'])):\n",
    "        numCounselors6 += 1\n",
    "        "
   ]
  },
  {
   "cell_type": "markdown",
   "metadata": {},
   "source": [
    "If there are any issues with this program or any additional functionality that you'd like included, please contact me, Abe Bluestein, at abistblue@gmail.com. No software is perfect, and reporting bugs is how it improves."
   ]
  },
  {
   "cell_type": "code",
   "execution_count": null,
   "metadata": {
    "collapsed": true
   },
   "outputs": [],
   "source": []
  }
 ],
 "metadata": {
  "kernelspec": {
   "display_name": "Python 3",
   "language": "python",
   "name": "python3"
  },
  "language_info": {
   "codemirror_mode": {
    "name": "ipython",
    "version": 3
   },
   "file_extension": ".py",
   "mimetype": "text/x-python",
   "name": "python",
   "nbconvert_exporter": "python",
   "pygments_lexer": "ipython3",
   "version": "3.6.2"
  }
 },
 "nbformat": 4,
 "nbformat_minor": 2
}
